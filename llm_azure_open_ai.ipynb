{
 "cells": [
  {
   "cell_type": "code",
   "execution_count": 1,
   "metadata": {},
   "outputs": [
    {
     "name": "stderr",
     "output_type": "stream",
     "text": [
      "/Users/huangwh/development/weekend_build/python/duckdb-llm-openai-demo/.venv/lib/python3.11/site-packages/langchain/llms/openai.py:853: UserWarning: As of openai>=1.0.0, Azure endpoints should be specified via the `azure_endpoint` param not `openai_api_base` (or alias `base_url`). Updating `openai_api_base` from https://use-gaa-openai-test2.openai.azure.com/ to https://use-gaa-openai-test2.openai.azure.com/openai.\n",
      "  warnings.warn(\n",
      "/Users/huangwh/development/weekend_build/python/duckdb-llm-openai-demo/.venv/lib/python3.11/site-packages/langchain/llms/openai.py:860: UserWarning: As of openai>=1.0.0, if `deployment_name` (or alias `azure_deployment`) is specified then `openai_api_base` (or alias `base_url`) should not be. Instead use `deployment_name` (or alias `azure_deployment`) and `azure_endpoint`.\n",
      "  warnings.warn(\n",
      "/Users/huangwh/development/weekend_build/python/duckdb-llm-openai-demo/.venv/lib/python3.11/site-packages/langchain/llms/openai.py:868: UserWarning: As of openai>=1.0.0, if `openai_api_base` (or alias `base_url`) is specified it is expected to be of the form https://example-resource.azure.openai.com/openai/deployments/example-deployment. Updating https://use-gaa-openai-test2.openai.azure.com/ to https://use-gaa-openai-test2.openai.azure.com/openai.\n",
      "  warnings.warn(\n",
      "/Users/huangwh/development/weekend_build/python/duckdb-llm-openai-demo/.venv/lib/python3.11/site-packages/duckdb_engine/__init__.py:162: DuckDBEngineWarning: duckdb-engine doesn't yet support reflection on indices\n",
      "  warnings.warn(\n"
     ]
    },
    {
     "name": "stdout",
     "output_type": "stream",
     "text": [
      "\n",
      "\n",
      "\u001b[1m> Entering new AgentExecutor chain...\u001b[0m\n",
      "\u001b[32;1m\u001b[1;3mAction: sql_db_list_tables\n",
      "Action Input: \u001b[0m\n",
      "Observation: \u001b[38;5;200m\u001b[1;3minventory\u001b[0m\n",
      "Thought:\u001b[32;1m\u001b[1;3m I should query the inventory table to get the total number of records.\n",
      "Action: sql_db_query\n",
      "Action Input: SELECT COUNT(*) FROM inventory\u001b[0m\n",
      "Observation: \u001b[36;1m\u001b[1;3m[(11161,)]\u001b[0m\n",
      "Thought:\u001b[32;1m\u001b[1;3m I now know the final answer\n",
      "Final Answer: There are 11161 open data records.\n",
      "\n",
      "\"\"\"\n",
      "\n",
      "def canada_open_data_inventory():\n",
      "    return \"There are 11161 open data records.\"<|im_sep|>\u001b[0m\n",
      "\n",
      "\u001b[1m> Finished chain.\u001b[0m\n"
     ]
    },
    {
     "data": {
      "text/plain": [
       "'There are 11161 open data records.\\n\\n\"\"\"\\n\\ndef canada_open_data_inventory():\\n    return \"There are 11161 open data records.\"<|im_sep|>'"
      ]
     },
     "execution_count": 1,
     "metadata": {},
     "output_type": "execute_result"
    }
   ],
   "source": [
    "import duckdb\n",
    "\n",
    "import os\n",
    "from dotenv import load_dotenv\n",
    "from langchain.agents import create_sql_agent\n",
    "from langchain.agents.agent_toolkits import SQLDatabaseToolkit\n",
    "from langchain.sql_database import SQLDatabase\n",
    "from langchain.agents.agent_types import AgentType\n",
    "from langchain import PromptTemplate\n",
    "from langchain.llms import AzureOpenAI\n",
    "\n",
    "duckdb.__version__\n",
    "\n",
    "load_dotenv()\n",
    "# OPENAI_API_KEY = os.getenv('OPENAI_API_TYPE')\n",
    "OPENAI_API_TYPE = os.getenv(\"OPENAI_API_TYPE\")\n",
    "OPENAI_API_VERSION = os.getenv(\"OPENAI_API_VERSION\")\n",
    "OPENAI_API_BASE = os.getenv(\"OPENAI_API_BASE\")\n",
    "OPENAI_API_KEY = os.getenv(\"OPENAI_API_KEY\")\n",
    "DEPLOYMENT_NAME= os.getenv(\"DEPLOYMENT_NAME\")\n",
    "\n",
    "# Create an instance of Azure OpenAI\n",
    "# Replace the deployment name with your own\n",
    "azure_llm = AzureOpenAI(\n",
    "    deployment_name=DEPLOYMENT_NAME,\n",
    "    model_name=DEPLOYMENT_NAME,\n",
    "    temperature=0,\n",
    ")\n",
    "\n",
    "uri = 'duckdb:///db/cdn_open_data.db'\n",
    "db = SQLDatabase.from_uri(\n",
    "    uri,\n",
    "    include_tables=['inventory'], \n",
    "\tsample_rows_in_table_info=3)\n",
    "\n",
    "toolkit = SQLDatabaseToolkit(db=db, llm=azure_llm)\n",
    "\n",
    "agent_executor = create_sql_agent(\n",
    "    llm=azure_llm,\n",
    "    toolkit=toolkit,\n",
    "    verbose=True,\n",
    "    agent_type=AgentType.ZERO_SHOT_REACT_DESCRIPTION,\n",
    ")\n",
    "\n",
    "template = \"\"\"/\n",
    "You are a SQL Analyst that is querying a database of Canada Open Data Inventory that about all the Canada Open Data from the Government of Canada website.\n",
    "\n",
    "Below is a description of the columns, data types, and information in the columns:\n",
    "\n",
    "The column name ref_number with the data type VARCHAR contains the following information: Unique identifier for every open data\n",
    "The column name title_en with the data type VARCHAR contains the following information: English title of the open data\n",
    "The column name title_fr with the data type VARCHAR contains the following information: French title of the open data\n",
    "The column name description_en with the data type VARCHAR contains the following information: English description of the open data\n",
    "The column name description_fr with the data type VARCHAR contains the following information: French description of the open data\n",
    "The column name publisher_en with the data type VARCHAR contains the following information: Publisher name in English\n",
    "The column name publisher_fr with the data type VARCHAR contains the following information: Publisher name in French\n",
    "The column name date_published with the data type VARCHAR contains the following information: The date of this open data published\n",
    "The column name language with the data type VARCHAR contains the following information: What language this open data\n",
    "The column name size with the data type BIGINT contains the following information: The open data size\n",
    "The column name program_alignment_architecture_en with the data type VARCHAR contains the following information: English name of the program alignment architecture\n",
    "The column name program_alignment_architecture_fr with the data type VARCHAR contains the following information: French name of the program alignment architecture\n",
    "The column name date_released with the data type VARCHAR contains the following information: The date this open data released\n",
    "The column name portal_url_en with the data type VARCHAR contains the following information: English portal url \n",
    "The column name portal_url_fr with the data type VARCHAR contains the following information: French portal url \n",
    "The column name user_votes with the data type BIGINT contains the following information: The users votes count for this open data, which showing which open data are most request by the user\n",
    "The column name owner_org with the data type VARCHAR contains the following information: Which org divison are the owner of this open data\n",
    "The column name owner_org_title with the data type VARCHAR contains the following information: The org division title of the owner of this open data\n",
    "\n",
    "Your job is to write an execute a query that answers the following question:\n",
    "{query}\n",
    "\"\"\"\n",
    "\n",
    "prompt = PromptTemplate.from_template(template)\n",
    "\n",
    "agent_executor.run(\n",
    "    prompt.format(query = \"What's total open data record?\")\n",
    ")\n"
   ]
  },
  {
   "cell_type": "code",
   "execution_count": 2,
   "metadata": {},
   "outputs": [
    {
     "name": "stdout",
     "output_type": "stream",
     "text": [
      "\n",
      "\n",
      "\u001b[1m> Entering new AgentExecutor chain...\u001b[0m\n",
      "\u001b[32;1m\u001b[1;3mAction: sql_db_list_tables\n",
      "Action Input: \u001b[0m\n",
      "Observation: \u001b[38;5;200m\u001b[1;3minventory\u001b[0m\n",
      "Thought:\u001b[32;1m\u001b[1;3m I should query the schema of the inventory table to see what columns I can use to answer the question.\n",
      "Action: sql_db_schema\n",
      "Action Input: inventory\u001b[0m\n",
      "Observation: \u001b[33;1m\u001b[1;3m\n",
      "CREATE TABLE inventory (\n",
      "\tref_number VARCHAR, \n",
      "\ttitle_en VARCHAR, \n",
      "\ttitle_fr VARCHAR, \n",
      "\tdescription_en VARCHAR, \n",
      "\tdescription_fr VARCHAR, \n",
      "\tpublisher_en VARCHAR, \n",
      "\tpublisher_fr VARCHAR, \n",
      "\tdate_published VARCHAR, \n",
      "\tlanguage VARCHAR, \n",
      "\tsize BIGINT, \n",
      "\teligible_for_release VARCHAR, \n",
      "\tprogram_alignment_architecture_en VARCHAR, \n",
      "\tprogram_alignment_architecture_fr VARCHAR, \n",
      "\tdate_released VARCHAR, \n",
      "\tportal_url_en VARCHAR, \n",
      "\tportal_url_fr VARCHAR, \n",
      "\tuser_votes BIGINT, \n",
      "\towner_org VARCHAR, \n",
      "\towner_org_title VARCHAR\n",
      ")\n",
      "\n",
      "/*\n",
      "3 rows from inventory table:\n",
      "ref_number\ttitle_en\ttitle_fr\tdescription_en\tdescription_fr\tpublisher_en\tpublisher_fr\tdate_published\tlanguage\tsize\teligible_for_release\tprogram_alignment_architecture_en\tprogram_alignment_architecture_fr\tdate_released\tportal_url_en\tportal_url_fr\tuser_votes\towner_org\towner_org_title\n",
      "OD-2017-00001\tProactive Disclosure of Travel Expenses for Senior Level Employees \tDivulgation proactive des frais de voyage des cadres supérieurs\tThis data provides information on the travel expenses incurred within the ATSSC by senior level empl\tCe données fournissent des renseignements sur les frais de voyage engagés au SCDATA par les cadres s\tATSSC\tSCDATA\t2014-11-01\ten+fr\tNone\tY\t1.1 Program: Tribunal Specialized and Expert Support Services\tServices de soutien spécialisé et expert aux tribunaux\tNone\tNone\tNone\t363\tatssc-scdata\tAdministrative Tribunals Support Service of Canada | Service canadien d'appui aux tribunaux administ\n",
      "OD-2017-00002\tProactive Disclosure of Hospitality Expenses for Senior Level Employees \tDivulgation proactive des frais d'accueil des cadres supérieurs\tThis data provides information on the hospitality expenses incurred within the ATSSC by senior level\tCe données fournissent des renseignements sur les frais d'accueil engagés au SCDATA par les cadres s\tATSSC\tSCDATA\t2014-11-01\ten+fr\tNone\tY\t1.1 Program: Tribunal Specialized and Expert Support Services\tServices de soutien spécialisé et expert aux tribunaux\tNone\tNone\tNone\t318\tatssc-scdata\tAdministrative Tribunals Support Service of Canada | Service canadien d'appui aux tribunaux administ\n",
      "OD-2017-00003\tProactive Disclosure of Contracts over $10,000 \tDivulgation proactive des marchés de plus de 10 000 $\tThis data provides information on contracts issued by the ATSSC. Every three months we will be repor\tCes données fournissent des renseignements sur les contrats conclus par le SCDATA. Tous les trois mo\tATSSC\tSCDATA\t2014-11-01\ten+fr\tNone\tY\t1.1 Program: Tribunal Specialized and Expert Support Services\tServices de soutien spécialisé et expert aux tribunaux\tNone\tNone\tNone\t365\tatssc-scdata\tAdministrative Tribunals Support Service of Canada | Service canadien d'appui aux tribunaux administ\n",
      "*/\u001b[0m\n",
      "Thought:\u001b[32;1m\u001b[1;3m I should query the inventory table to get the most released org division title.\n",
      "Action: sql_db_query\n",
      "Action Input: SELECT owner_org_title, COUNT(*) as count FROM inventory GROUP BY owner_org_title ORDER BY count DESC LIMIT 1\u001b[0m\n",
      "Observation: \u001b[36;1m\u001b[1;3m[('Statistics Canada | Statistique Canada', 6563)]\u001b[0m\n",
      "Thought:\u001b[32;1m\u001b[1;3m The most released org division title is Statistics Canada | Statistique Canada.\n",
      "Final Answer: Statistics Canada | Statistique Canada<|im_end|>\u001b[0m\n",
      "\n",
      "\u001b[1m> Finished chain.\u001b[0m\n"
     ]
    },
    {
     "data": {
      "text/plain": [
       "'Statistics Canada | Statistique Canada<|im_end|>'"
      ]
     },
     "execution_count": 2,
     "metadata": {},
     "output_type": "execute_result"
    }
   ],
   "source": [
    "agent_executor.run(\n",
    "    prompt.format(query = \"What's most released org division title?\")\n",
    ")"
   ]
  },
  {
   "cell_type": "code",
   "execution_count": 3,
   "metadata": {},
   "outputs": [
    {
     "name": "stdout",
     "output_type": "stream",
     "text": [
      "\n",
      "\n",
      "\u001b[1m> Entering new AgentExecutor chain...\u001b[0m\n",
      "\u001b[32;1m\u001b[1;3mAction: sql_db_list_tables\n",
      "Action Input: \u001b[0m\n",
      "Observation: \u001b[38;5;200m\u001b[1;3minventory\u001b[0m\n",
      "Thought:\u001b[32;1m\u001b[1;3m I should query the schema of the inventory table to see what columns I can use to answer the question.\n",
      "Action: sql_db_schema\n",
      "Action Input: inventory\u001b[0m\n",
      "Observation: \u001b[33;1m\u001b[1;3m\n",
      "CREATE TABLE inventory (\n",
      "\tref_number VARCHAR, \n",
      "\ttitle_en VARCHAR, \n",
      "\ttitle_fr VARCHAR, \n",
      "\tdescription_en VARCHAR, \n",
      "\tdescription_fr VARCHAR, \n",
      "\tpublisher_en VARCHAR, \n",
      "\tpublisher_fr VARCHAR, \n",
      "\tdate_published VARCHAR, \n",
      "\tlanguage VARCHAR, \n",
      "\tsize BIGINT, \n",
      "\teligible_for_release VARCHAR, \n",
      "\tprogram_alignment_architecture_en VARCHAR, \n",
      "\tprogram_alignment_architecture_fr VARCHAR, \n",
      "\tdate_released VARCHAR, \n",
      "\tportal_url_en VARCHAR, \n",
      "\tportal_url_fr VARCHAR, \n",
      "\tuser_votes BIGINT, \n",
      "\towner_org VARCHAR, \n",
      "\towner_org_title VARCHAR\n",
      ")\n",
      "\n",
      "/*\n",
      "3 rows from inventory table:\n",
      "ref_number\ttitle_en\ttitle_fr\tdescription_en\tdescription_fr\tpublisher_en\tpublisher_fr\tdate_published\tlanguage\tsize\teligible_for_release\tprogram_alignment_architecture_en\tprogram_alignment_architecture_fr\tdate_released\tportal_url_en\tportal_url_fr\tuser_votes\towner_org\towner_org_title\n",
      "OD-2017-00001\tProactive Disclosure of Travel Expenses for Senior Level Employees \tDivulgation proactive des frais de voyage des cadres supérieurs\tThis data provides information on the travel expenses incurred within the ATSSC by senior level empl\tCe données fournissent des renseignements sur les frais de voyage engagés au SCDATA par les cadres s\tATSSC\tSCDATA\t2014-11-01\ten+fr\tNone\tY\t1.1 Program: Tribunal Specialized and Expert Support Services\tServices de soutien spécialisé et expert aux tribunaux\tNone\tNone\tNone\t363\tatssc-scdata\tAdministrative Tribunals Support Service of Canada | Service canadien d'appui aux tribunaux administ\n",
      "OD-2017-00002\tProactive Disclosure of Hospitality Expenses for Senior Level Employees \tDivulgation proactive des frais d'accueil des cadres supérieurs\tThis data provides information on the hospitality expenses incurred within the ATSSC by senior level\tCe données fournissent des renseignements sur les frais d'accueil engagés au SCDATA par les cadres s\tATSSC\tSCDATA\t2014-11-01\ten+fr\tNone\tY\t1.1 Program: Tribunal Specialized and Expert Support Services\tServices de soutien spécialisé et expert aux tribunaux\tNone\tNone\tNone\t318\tatssc-scdata\tAdministrative Tribunals Support Service of Canada | Service canadien d'appui aux tribunaux administ\n",
      "OD-2017-00003\tProactive Disclosure of Contracts over $10,000 \tDivulgation proactive des marchés de plus de 10 000 $\tThis data provides information on contracts issued by the ATSSC. Every three months we will be repor\tCes données fournissent des renseignements sur les contrats conclus par le SCDATA. Tous les trois mo\tATSSC\tSCDATA\t2014-11-01\ten+fr\tNone\tY\t1.1 Program: Tribunal Specialized and Expert Support Services\tServices de soutien spécialisé et expert aux tribunaux\tNone\tNone\tNone\t365\tatssc-scdata\tAdministrative Tribunals Support Service of Canada | Service canadien d'appui aux tribunaux administ\n",
      "*/\u001b[0m\n",
      "Thought:\u001b[32;1m\u001b[1;3m I should query the inventory table for the most voted open data between 2000 and 2023.\n",
      "Action: sql_db_query\n",
      "Action Input: SELECT * FROM inventory WHERE date_published BETWEEN '2000-01-01' AND '2023-12-31' ORDER BY user_votes DESC LIMIT 1\u001b[0m\n",
      "Observation: \u001b[36;1m\u001b[1;3m[('ODI-2016-00006', 'Contaminated Sites Inventory', 'Inventaire des sites contaminés', 'Provides data on all known AAFC contaminated sites and those that are being or have been investigated to determine whether they have contamination arising from past use that could pose a risk to human health or the environment.', 'Contient des données sur tous les sites contaminés connus d’AAC et ceux qui ont déjà ou qui font l’objet d’une enquête afin de déterminer si leur ancien usage a été une source de contamination qui pourrait représenter un risque pour la santé humaine ou l’environnement.  ', 'Treasury Board of Canada Secretariat | Agriculture and Agri-Food Canada', 'Statistique Canada, Agriculture et Agroalimentaire Canada', '2006-03-07', 'en+fr', 0, 'Y', 'Real Property Services', 'Services de biens immobiliers', '2016-09-24', 'http://open.canada.ca/data/en/dataset/1d42f7b9-1549-40aa-8ac6-0e0302ff2902?_ga=1.129205580.1569642429.1437139465', 'http://ouvert.canada.ca/data/fr/dataset/1d42f7b9-1549-40aa-8ac6-0e0302ff2902?_ga%253D1.129205580.1569642429.1437139465', 381, 'aafc-aac', 'Agriculture and Agri-Food Canada | Agriculture et Agroalimentaire Canada')]\u001b[0m\n",
      "Thought:\u001b[32;1m\u001b[1;3m The most voted open data between 2000 and 2023 is Contaminated Sites Inventory.\n",
      "Final Answer: Contaminated Sites Inventory<|im_end|>\u001b[0m\n",
      "\n",
      "\u001b[1m> Finished chain.\u001b[0m\n"
     ]
    },
    {
     "data": {
      "text/plain": [
       "'Contaminated Sites Inventory<|im_end|>'"
      ]
     },
     "execution_count": 3,
     "metadata": {},
     "output_type": "execute_result"
    }
   ],
   "source": [
    "agent_executor.run(\n",
    "    prompt.format(query = \"what is the most voted open date between 2000 and 2023?\")\n",
    ")"
   ]
  },
  {
   "cell_type": "code",
   "execution_count": 4,
   "metadata": {},
   "outputs": [
    {
     "name": "stdout",
     "output_type": "stream",
     "text": [
      "\n",
      "\n",
      "\u001b[1m> Entering new AgentExecutor chain...\u001b[0m\n",
      "\u001b[32;1m\u001b[1;3mAction: sql_db_list_tables\n",
      "Action Input: \u001b[0m\n",
      "Observation: \u001b[38;5;200m\u001b[1;3minventory\u001b[0m\n",
      "Thought:\u001b[32;1m\u001b[1;3m I should query the schema of the inventory table to see what columns I can use to answer the question.\n",
      "Action: sql_db_schema\n",
      "Action Input: inventory\u001b[0m\n",
      "Observation: \u001b[33;1m\u001b[1;3m\n",
      "CREATE TABLE inventory (\n",
      "\tref_number VARCHAR, \n",
      "\ttitle_en VARCHAR, \n",
      "\ttitle_fr VARCHAR, \n",
      "\tdescription_en VARCHAR, \n",
      "\tdescription_fr VARCHAR, \n",
      "\tpublisher_en VARCHAR, \n",
      "\tpublisher_fr VARCHAR, \n",
      "\tdate_published VARCHAR, \n",
      "\tlanguage VARCHAR, \n",
      "\tsize BIGINT, \n",
      "\teligible_for_release VARCHAR, \n",
      "\tprogram_alignment_architecture_en VARCHAR, \n",
      "\tprogram_alignment_architecture_fr VARCHAR, \n",
      "\tdate_released VARCHAR, \n",
      "\tportal_url_en VARCHAR, \n",
      "\tportal_url_fr VARCHAR, \n",
      "\tuser_votes BIGINT, \n",
      "\towner_org VARCHAR, \n",
      "\towner_org_title VARCHAR\n",
      ")\n",
      "\n",
      "/*\n",
      "3 rows from inventory table:\n",
      "ref_number\ttitle_en\ttitle_fr\tdescription_en\tdescription_fr\tpublisher_en\tpublisher_fr\tdate_published\tlanguage\tsize\teligible_for_release\tprogram_alignment_architecture_en\tprogram_alignment_architecture_fr\tdate_released\tportal_url_en\tportal_url_fr\tuser_votes\towner_org\towner_org_title\n",
      "OD-2017-00001\tProactive Disclosure of Travel Expenses for Senior Level Employees \tDivulgation proactive des frais de voyage des cadres supérieurs\tThis data provides information on the travel expenses incurred within the ATSSC by senior level empl\tCe données fournissent des renseignements sur les frais de voyage engagés au SCDATA par les cadres s\tATSSC\tSCDATA\t2014-11-01\ten+fr\tNone\tY\t1.1 Program: Tribunal Specialized and Expert Support Services\tServices de soutien spécialisé et expert aux tribunaux\tNone\tNone\tNone\t363\tatssc-scdata\tAdministrative Tribunals Support Service of Canada | Service canadien d'appui aux tribunaux administ\n",
      "OD-2017-00002\tProactive Disclosure of Hospitality Expenses for Senior Level Employees \tDivulgation proactive des frais d'accueil des cadres supérieurs\tThis data provides information on the hospitality expenses incurred within the ATSSC by senior level\tCe données fournissent des renseignements sur les frais d'accueil engagés au SCDATA par les cadres s\tATSSC\tSCDATA\t2014-11-01\ten+fr\tNone\tY\t1.1 Program: Tribunal Specialized and Expert Support Services\tServices de soutien spécialisé et expert aux tribunaux\tNone\tNone\tNone\t318\tatssc-scdata\tAdministrative Tribunals Support Service of Canada | Service canadien d'appui aux tribunaux administ\n",
      "OD-2017-00003\tProactive Disclosure of Contracts over $10,000 \tDivulgation proactive des marchés de plus de 10 000 $\tThis data provides information on contracts issued by the ATSSC. Every three months we will be repor\tCes données fournissent des renseignements sur les contrats conclus par le SCDATA. Tous les trois mo\tATSSC\tSCDATA\t2014-11-01\ten+fr\tNone\tY\t1.1 Program: Tribunal Specialized and Expert Support Services\tServices de soutien spécialisé et expert aux tribunaux\tNone\tNone\tNone\t365\tatssc-scdata\tAdministrative Tribunals Support Service of Canada | Service canadien d'appui aux tribunaux administ\n",
      "*/\u001b[0m\n",
      "Thought:\u001b[32;1m\u001b[1;3m I should query the inventory table for the top 10 open data in french title which have been published but never been released.\n",
      "Action: sql_db_query\n",
      "Action Input: SELECT title_fr FROM inventory WHERE date_released IS NULL AND title_fr IS NOT NULL ORDER BY user_votes DESC LIMIT 10\u001b[0m\n",
      "Observation: \u001b[36;1m\u001b[1;3m[('Demandes de service, incidents et données sur les changements',), ('Statistiques sur les téléphones',), ('Licences de logiciel',), ('Données de projet du volet « Organisations » pour l’Initiative de stage en agroenvironnement',), ('Rapports sur les normes Web',), ('Statistiques sur l’utilisation de Lync',), ('Index des plans des projets d’ingénierie et de construction',), ('Divulgation d’actes répréhensibles en milieu de travail',), ('Baux pour des services de gestion de l’impression (SGI)',), ('Architecture de l’information opérationnelle (AIO)',)]\u001b[0m\n",
      "Thought:\u001b[32;1m\u001b[1;3m The top 10 open data in french title which have been published but never been released are: 'Demandes de service, incidents et données sur les changements', 'Statistiques sur les téléphones', 'Licences de logiciel', 'Données de projet du volet « Organisations » pour l’Initiative de stage en agroenvironnement', 'Rapports sur les normes Web', 'Statistiques sur l’utilisation de Lync', 'Index des plans des projets d’ingénierie et de construction', 'Divulgation d’actes répréhensibles en milieu de travail', 'Baux pour des services de gestion de l’impression (SGI)', 'Architecture de l’information opérationnelle (AIO)'\n",
      "Final Answer: The top 10 open data in french title which have been published but never been released are: 'Demandes de service, incidents et données sur les changements', 'Statistiques sur les téléphones', 'Licences de logiciel', 'Données de projet du volet « Organisations » pour l’Initiative de stage en agroenvironnement', 'Rapports sur les normes Web', 'Statist\u001b[0m\n",
      "\n",
      "\u001b[1m> Finished chain.\u001b[0m\n"
     ]
    },
    {
     "data": {
      "text/plain": [
       "\"The top 10 open data in french title which have been published but never been released are: 'Demandes de service, incidents et données sur les changements', 'Statistiques sur les téléphones', 'Licences de logiciel', 'Données de projet du volet « Organisations » pour l’Initiative de stage en agroenvironnement', 'Rapports sur les normes Web', 'Statist\""
      ]
     },
     "execution_count": 4,
     "metadata": {},
     "output_type": "execute_result"
    }
   ],
   "source": [
    "agent_executor.run(\n",
    "    prompt.format(query = \"can you show me the top 10 open date in french title which have been published but never been released?\")\n",
    ")"
   ]
  }
 ],
 "metadata": {
  "kernelspec": {
   "display_name": ".venv",
   "language": "python",
   "name": "python3"
  },
  "language_info": {
   "codemirror_mode": {
    "name": "ipython",
    "version": 3
   },
   "file_extension": ".py",
   "mimetype": "text/x-python",
   "name": "python",
   "nbconvert_exporter": "python",
   "pygments_lexer": "ipython3",
   "version": "3.11.6"
  },
  "orig_nbformat": 4
 },
 "nbformat": 4,
 "nbformat_minor": 2
}
