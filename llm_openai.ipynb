{
 "cells": [
  {
   "cell_type": "markdown",
   "metadata": {},
   "source": [
    "### Demo how to use the LLM with DuckDB"
   ]
  },
  {
   "cell_type": "code",
   "execution_count": 1,
   "metadata": {},
   "outputs": [
    {
     "data": {
      "text/plain": [
       "'0.9.0'"
      ]
     },
     "execution_count": 1,
     "metadata": {},
     "output_type": "execute_result"
    }
   ],
   "source": [
    "import duckdb\n",
    "\n",
    "duckdb.__version__"
   ]
  },
  {
   "cell_type": "code",
   "execution_count": 2,
   "metadata": {},
   "outputs": [
    {
     "name": "stderr",
     "output_type": "stream",
     "text": [
      "/home/wei/Developments/python/duckdb-cdn-open-data/.venv/lib64/python3.11/site-packages/duckdb_engine/__init__.py:162: DuckDBEngineWarning: duckdb-engine doesn't yet support reflection on indices\n",
      "  warnings.warn(\n"
     ]
    },
    {
     "name": "stdout",
     "output_type": "stream",
     "text": [
      "\n",
      "\n",
      "\u001b[1m> Entering new AgentExecutor chain...\u001b[0m\n",
      "\u001b[32;1m\u001b[1;3mAction: sql_db_list_tables\n",
      "Action Input: \u001b[0m\n",
      "Observation: \u001b[38;5;200m\u001b[1;3minventory\u001b[0m\n",
      "Thought:\u001b[32;1m\u001b[1;3m I should query the schema of the inventory table to see what columns I can use.\n",
      "Action: sql_db_schema\n",
      "Action Input: inventory\u001b[0m\n",
      "Observation: \u001b[33;1m\u001b[1;3m\n",
      "CREATE TABLE inventory (\n",
      "\tref_number VARCHAR, \n",
      "\ttitle_en VARCHAR, \n",
      "\ttitle_fr VARCHAR, \n",
      "\tdescription_en VARCHAR, \n",
      "\tdescription_fr VARCHAR, \n",
      "\tpublisher_en VARCHAR, \n",
      "\tpublisher_fr VARCHAR, \n",
      "\tdate_published VARCHAR, \n",
      "\tlanguage VARCHAR, \n",
      "\tsize BIGINT, \n",
      "\teligible_for_release VARCHAR, \n",
      "\tprogram_alignment_architecture_en VARCHAR, \n",
      "\tprogram_alignment_architecture_fr VARCHAR, \n",
      "\tdate_released VARCHAR, \n",
      "\tportal_url_en VARCHAR, \n",
      "\tportal_url_fr VARCHAR, \n",
      "\tuser_votes BIGINT, \n",
      "\towner_org VARCHAR, \n",
      "\towner_org_title VARCHAR\n",
      ")\n",
      "\n",
      "/*\n",
      "3 rows from inventory table:\n",
      "ref_number\ttitle_en\ttitle_fr\tdescription_en\tdescription_fr\tpublisher_en\tpublisher_fr\tdate_published\tlanguage\tsize\teligible_for_release\tprogram_alignment_architecture_en\tprogram_alignment_architecture_fr\tdate_released\tportal_url_en\tportal_url_fr\tuser_votes\towner_org\towner_org_title\n",
      "OD-2017-00001\tProactive Disclosure of Travel Expenses for Senior Level Employees \tDivulgation proactive des frais de voyage des cadres supérieurs\tThis data provides information on the travel expenses incurred within the ATSSC by senior level empl\tCe données fournissent des renseignements sur les frais de voyage engagés au SCDATA par les cadres s\tATSSC\tSCDATA\t2014-11-01\ten+fr\tNone\tY\t1.1 Program: Tribunal Specialized and Expert Support Services\tServices de soutien spécialisé et expert aux tribunaux\tNone\tNone\tNone\t363\tatssc-scdata\tAdministrative Tribunals Support Service of Canada | Service canadien d'appui aux tribunaux administ\n",
      "OD-2017-00002\tProactive Disclosure of Hospitality Expenses for Senior Level Employees \tDivulgation proactive des frais d'accueil des cadres supérieurs\tThis data provides information on the hospitality expenses incurred within the ATSSC by senior level\tCe données fournissent des renseignements sur les frais d'accueil engagés au SCDATA par les cadres s\tATSSC\tSCDATA\t2014-11-01\ten+fr\tNone\tY\t1.1 Program: Tribunal Specialized and Expert Support Services\tServices de soutien spécialisé et expert aux tribunaux\tNone\tNone\tNone\t318\tatssc-scdata\tAdministrative Tribunals Support Service of Canada | Service canadien d'appui aux tribunaux administ\n",
      "OD-2017-00003\tProactive Disclosure of Contracts over $10,000 \tDivulgation proactive des marchés de plus de 10 000 $\tThis data provides information on contracts issued by the ATSSC. Every three months we will be repor\tCes données fournissent des renseignements sur les contrats conclus par le SCDATA. Tous les trois mo\tATSSC\tSCDATA\t2014-11-01\ten+fr\tNone\tY\t1.1 Program: Tribunal Specialized and Expert Support Services\tServices de soutien spécialisé et expert aux tribunaux\tNone\tNone\tNone\t365\tatssc-scdata\tAdministrative Tribunals Support Service of Canada | Service canadien d'appui aux tribunaux administ\n",
      "*/\u001b[0m\n",
      "Thought:"
     ]
    },
    {
     "name": "stderr",
     "output_type": "stream",
     "text": [
      "Retrying langchain.llms.openai.completion_with_retry.<locals>._completion_with_retry in 4.0 seconds as it raised RateLimitError: Rate limit reached for default-text-davinci-003 in organization org-8QRUoez80xE1pV7j8qlCobzS on requests per min. Limit: 3 / min. Please try again in 20s. Contact us through our help center at help.openai.com if you continue to have issues. Please add a payment method to your account to increase your rate limit. Visit https://platform.openai.com/account/billing to add a payment method..\n"
     ]
    },
    {
     "name": "stdout",
     "output_type": "stream",
     "text": [
      "\u001b[32;1m\u001b[1;3m I should query the inventory table to get the total number of open data records.\n",
      "Action: sql_db_query\n",
      "Action Input: SELECT COUNT(*) FROM inventory\u001b[0m\n",
      "Observation: \u001b[36;1m\u001b[1;3m[(11161,)]\u001b[0m\n",
      "Thought:"
     ]
    },
    {
     "name": "stderr",
     "output_type": "stream",
     "text": [
      "Retrying langchain.llms.openai.completion_with_retry.<locals>._completion_with_retry in 4.0 seconds as it raised RateLimitError: Rate limit reached for default-text-davinci-003 in organization org-8QRUoez80xE1pV7j8qlCobzS on requests per min. Limit: 3 / min. Please try again in 20s. Contact us through our help center at help.openai.com if you continue to have issues. Please add a payment method to your account to increase your rate limit. Visit https://platform.openai.com/account/billing to add a payment method..\n",
      "Retrying langchain.llms.openai.completion_with_retry.<locals>._completion_with_retry in 4.0 seconds as it raised RateLimitError: Rate limit reached for default-text-davinci-003 in organization org-8QRUoez80xE1pV7j8qlCobzS on requests per min. Limit: 3 / min. Please try again in 20s. Contact us through our help center at help.openai.com if you continue to have issues. Please add a payment method to your account to increase your rate limit. Visit https://platform.openai.com/account/billing to add a payment method..\n",
      "Retrying langchain.llms.openai.completion_with_retry.<locals>._completion_with_retry in 8.0 seconds as it raised RateLimitError: Rate limit reached for default-text-davinci-003 in organization org-8QRUoez80xE1pV7j8qlCobzS on requests per min. Limit: 3 / min. Please try again in 20s. Contact us through our help center at help.openai.com if you continue to have issues. Please add a payment method to your account to increase your rate limit. Visit https://platform.openai.com/account/billing to add a payment method..\n"
     ]
    },
    {
     "name": "stdout",
     "output_type": "stream",
     "text": [
      "\u001b[32;1m\u001b[1;3m I now know the final answer.\n",
      "Final Answer: There are 11161 open data records.\u001b[0m\n",
      "\n",
      "\u001b[1m> Finished chain.\u001b[0m\n"
     ]
    },
    {
     "data": {
      "text/plain": [
       "'There are 11161 open data records.'"
      ]
     },
     "execution_count": 2,
     "metadata": {},
     "output_type": "execute_result"
    }
   ],
   "source": [
    "from dotenv import load_dotenv\n",
    "import os\n",
    "\n",
    "from langchain.agents import create_sql_agent\n",
    "from langchain.agents.agent_toolkits import SQLDatabaseToolkit\n",
    "from langchain.sql_database import SQLDatabase\n",
    "from langchain.agents import AgentExecutor\n",
    "from langchain.agents.agent_types import AgentType\n",
    "from langchain import HuggingFaceHub, OpenAI\n",
    "from langchain import PromptTemplate, LLMChain\n",
    "from sqlalchemy import Column, Integer, Sequence, String, create_engine\n",
    "\n",
    "load_dotenv()\n",
    "OPENAI_API_KEY = os.getenv('OPENAI_API_KEY')\n",
    "\n",
    "uri = 'duckdb:///db/cdn_open_data.db'\n",
    "\n",
    "connect_args = {\n",
    "        'read_only': True\n",
    "    }\n",
    "\n",
    "CONN = create_engine(uri)\n",
    "\n",
    "db = SQLDatabase.from_uri(\n",
    "    uri,\n",
    "    include_tables=['inventory'], \n",
    "\tsample_rows_in_table_info=3)\n",
    "\n",
    "toolkit = SQLDatabaseToolkit(db=db, llm=OpenAI(temperature=0))\n",
    "\n",
    "agent_executor = create_sql_agent(\n",
    "    llm=OpenAI(temperature=0),\n",
    "    toolkit=toolkit,\n",
    "    verbose=True,\n",
    "    agent_type=AgentType.ZERO_SHOT_REACT_DESCRIPTION,\n",
    ")\n",
    "\n",
    "template = \"\"\"/\n",
    "You are a SQL Analyst that is querying a database of Canada Open Data Inventory that about all the Canada Open Data from the Government of Canada website.\n",
    "\n",
    "Below is a description of the columns, data types, and information in the columns:\n",
    "\n",
    "The column name ref_number with the data type VARCHAR contains the following information: Unique identifier for every open data\n",
    "The column name title_en with the data type VARCHAR contains the following information: English title of the open data\n",
    "The column name title_fr with the data type VARCHAR contains the following information: French title of the open data\n",
    "The column name description_en with the data type VARCHAR contains the following information: English description of the open data\n",
    "The column name description_fr with the data type VARCHAR contains the following information: French description of the open data\n",
    "The column name publisher_en with the data type VARCHAR contains the following information: Publisher name in English\n",
    "The column name publisher_fr with the data type VARCHAR contains the following information: Publisher name in French\n",
    "The column name date_published with the data type VARCHAR contains the following information: The date of this open data published\n",
    "The column name language with the data type VARCHAR contains the following information: What language this open data\n",
    "The column name size with the data type BIGINT contains the following information: The open data size\n",
    "The column name program_alignment_architecture_en with the data type VARCHAR contains the following information: English name of the program alignment architecture\n",
    "The column name program_alignment_architecture_fr with the data type VARCHAR contains the following information: French name of the program alignment architecture\n",
    "The column name date_released with the data type VARCHAR contains the following information: The date this open data released\n",
    "The column name portal_url_en with the data type VARCHAR contains the following information: English portal url \n",
    "The column name portal_url_fr with the data type VARCHAR contains the following information: French portal url \n",
    "The column name user_votes with the data type BIGINT contains the following information: The users votes count for this open data, which showing which open data are most request by the user\n",
    "The column name owner_org with the data type VARCHAR contains the following information: Which org divison are the owner of this open data\n",
    "The column name owner_org_title with the data type VARCHAR contains the following information: The org division title of the owner of this open data\n",
    "\n",
    "Your job is to write an execute a query that answers the following question:\n",
    "{query}\n",
    "\"\"\"\n",
    "\n",
    "prompt = PromptTemplate.from_template(template)\n",
    "\n",
    "agent_executor.run(\n",
    "    prompt.format(query = \"What's total open data record?\")\n",
    ")\n"
   ]
  },
  {
   "cell_type": "code",
   "execution_count": 3,
   "metadata": {},
   "outputs": [
    {
     "name": "stderr",
     "output_type": "stream",
     "text": [
      "Retrying langchain.llms.openai.completion_with_retry.<locals>._completion_with_retry in 4.0 seconds as it raised RateLimitError: Rate limit reached for default-text-davinci-003 in organization org-8QRUoez80xE1pV7j8qlCobzS on requests per min. Limit: 3 / min. Please try again in 20s. Contact us through our help center at help.openai.com if you continue to have issues. Please add a payment method to your account to increase your rate limit. Visit https://platform.openai.com/account/billing to add a payment method..\n"
     ]
    },
    {
     "name": "stdout",
     "output_type": "stream",
     "text": [
      "\n",
      "\n",
      "\u001b[1m> Entering new AgentExecutor chain...\u001b[0m\n"
     ]
    },
    {
     "name": "stderr",
     "output_type": "stream",
     "text": [
      "Retrying langchain.llms.openai.completion_with_retry.<locals>._completion_with_retry in 4.0 seconds as it raised RateLimitError: Rate limit reached for default-text-davinci-003 in organization org-8QRUoez80xE1pV7j8qlCobzS on requests per min. Limit: 3 / min. Please try again in 20s. Contact us through our help center at help.openai.com if you continue to have issues. Please add a payment method to your account to increase your rate limit. Visit https://platform.openai.com/account/billing to add a payment method..\n"
     ]
    },
    {
     "name": "stdout",
     "output_type": "stream",
     "text": [
      "\u001b[32;1m\u001b[1;3mAction: sql_db_list_tables\n",
      "Action Input: \u001b[0m\n",
      "Observation: \u001b[38;5;200m\u001b[1;3minventory\u001b[0m\n",
      "Thought:"
     ]
    },
    {
     "name": "stderr",
     "output_type": "stream",
     "text": [
      "Retrying langchain.llms.openai.completion_with_retry.<locals>._completion_with_retry in 4.0 seconds as it raised RateLimitError: Rate limit reached for default-text-davinci-003 in organization org-8QRUoez80xE1pV7j8qlCobzS on requests per min. Limit: 3 / min. Please try again in 20s. Contact us through our help center at help.openai.com if you continue to have issues. Please add a payment method to your account to increase your rate limit. Visit https://platform.openai.com/account/billing to add a payment method..\n",
      "Retrying langchain.llms.openai.completion_with_retry.<locals>._completion_with_retry in 4.0 seconds as it raised RateLimitError: Rate limit reached for default-text-davinci-003 in organization org-8QRUoez80xE1pV7j8qlCobzS on requests per min. Limit: 3 / min. Please try again in 20s. Contact us through our help center at help.openai.com if you continue to have issues. Please add a payment method to your account to increase your rate limit. Visit https://platform.openai.com/account/billing to add a payment method..\n",
      "Retrying langchain.llms.openai.completion_with_retry.<locals>._completion_with_retry in 8.0 seconds as it raised RateLimitError: Rate limit reached for default-text-davinci-003 in organization org-8QRUoez80xE1pV7j8qlCobzS on requests per min. Limit: 3 / min. Please try again in 20s. Contact us through our help center at help.openai.com if you continue to have issues. Please add a payment method to your account to increase your rate limit. Visit https://platform.openai.com/account/billing to add a payment method..\n"
     ]
    },
    {
     "name": "stdout",
     "output_type": "stream",
     "text": [
      "\u001b[32;1m\u001b[1;3m I should query the schema of the inventory table to see what columns I can use.\n",
      "Action: sql_db_schema\n",
      "Action Input: inventory\u001b[0m\n",
      "Observation: \u001b[33;1m\u001b[1;3m\n",
      "CREATE TABLE inventory (\n",
      "\tref_number VARCHAR, \n",
      "\ttitle_en VARCHAR, \n",
      "\ttitle_fr VARCHAR, \n",
      "\tdescription_en VARCHAR, \n",
      "\tdescription_fr VARCHAR, \n",
      "\tpublisher_en VARCHAR, \n",
      "\tpublisher_fr VARCHAR, \n",
      "\tdate_published VARCHAR, \n",
      "\tlanguage VARCHAR, \n",
      "\tsize BIGINT, \n",
      "\teligible_for_release VARCHAR, \n",
      "\tprogram_alignment_architecture_en VARCHAR, \n",
      "\tprogram_alignment_architecture_fr VARCHAR, \n",
      "\tdate_released VARCHAR, \n",
      "\tportal_url_en VARCHAR, \n",
      "\tportal_url_fr VARCHAR, \n",
      "\tuser_votes BIGINT, \n",
      "\towner_org VARCHAR, \n",
      "\towner_org_title VARCHAR\n",
      ")\n",
      "\n",
      "/*\n",
      "3 rows from inventory table:\n",
      "ref_number\ttitle_en\ttitle_fr\tdescription_en\tdescription_fr\tpublisher_en\tpublisher_fr\tdate_published\tlanguage\tsize\teligible_for_release\tprogram_alignment_architecture_en\tprogram_alignment_architecture_fr\tdate_released\tportal_url_en\tportal_url_fr\tuser_votes\towner_org\towner_org_title\n",
      "OD-2017-00001\tProactive Disclosure of Travel Expenses for Senior Level Employees \tDivulgation proactive des frais de voyage des cadres supérieurs\tThis data provides information on the travel expenses incurred within the ATSSC by senior level empl\tCe données fournissent des renseignements sur les frais de voyage engagés au SCDATA par les cadres s\tATSSC\tSCDATA\t2014-11-01\ten+fr\tNone\tY\t1.1 Program: Tribunal Specialized and Expert Support Services\tServices de soutien spécialisé et expert aux tribunaux\tNone\tNone\tNone\t363\tatssc-scdata\tAdministrative Tribunals Support Service of Canada | Service canadien d'appui aux tribunaux administ\n",
      "OD-2017-00002\tProactive Disclosure of Hospitality Expenses for Senior Level Employees \tDivulgation proactive des frais d'accueil des cadres supérieurs\tThis data provides information on the hospitality expenses incurred within the ATSSC by senior level\tCe données fournissent des renseignements sur les frais d'accueil engagés au SCDATA par les cadres s\tATSSC\tSCDATA\t2014-11-01\ten+fr\tNone\tY\t1.1 Program: Tribunal Specialized and Expert Support Services\tServices de soutien spécialisé et expert aux tribunaux\tNone\tNone\tNone\t318\tatssc-scdata\tAdministrative Tribunals Support Service of Canada | Service canadien d'appui aux tribunaux administ\n",
      "OD-2017-00003\tProactive Disclosure of Contracts over $10,000 \tDivulgation proactive des marchés de plus de 10 000 $\tThis data provides information on contracts issued by the ATSSC. Every three months we will be repor\tCes données fournissent des renseignements sur les contrats conclus par le SCDATA. Tous les trois mo\tATSSC\tSCDATA\t2014-11-01\ten+fr\tNone\tY\t1.1 Program: Tribunal Specialized and Expert Support Services\tServices de soutien spécialisé et expert aux tribunaux\tNone\tNone\tNone\t365\tatssc-scdata\tAdministrative Tribunals Support Service of Canada | Service canadien d'appui aux tribunaux administ\n",
      "*/\u001b[0m\n",
      "Thought:"
     ]
    },
    {
     "name": "stderr",
     "output_type": "stream",
     "text": [
      "Retrying langchain.llms.openai.completion_with_retry.<locals>._completion_with_retry in 4.0 seconds as it raised RateLimitError: Rate limit reached for default-text-davinci-003 in organization org-8QRUoez80xE1pV7j8qlCobzS on requests per min. Limit: 3 / min. Please try again in 20s. Contact us through our help center at help.openai.com if you continue to have issues. Please add a payment method to your account to increase your rate limit. Visit https://platform.openai.com/account/billing to add a payment method..\n",
      "Retrying langchain.llms.openai.completion_with_retry.<locals>._completion_with_retry in 4.0 seconds as it raised RateLimitError: Rate limit reached for default-text-davinci-003 in organization org-8QRUoez80xE1pV7j8qlCobzS on requests per min. Limit: 3 / min. Please try again in 20s. Contact us through our help center at help.openai.com if you continue to have issues. Please add a payment method to your account to increase your rate limit. Visit https://platform.openai.com/account/billing to add a payment method..\n",
      "Retrying langchain.llms.openai.completion_with_retry.<locals>._completion_with_retry in 4.0 seconds as it raised RateLimitError: Rate limit reached for default-text-davinci-003 in organization org-8QRUoez80xE1pV7j8qlCobzS on requests per min. Limit: 3 / min. Please try again in 20s. Contact us through our help center at help.openai.com if you continue to have issues. Please add a payment method to your account to increase your rate limit. Visit https://platform.openai.com/account/billing to add a payment method..\n"
     ]
    },
    {
     "name": "stdout",
     "output_type": "stream",
     "text": [
      "\u001b[32;1m\u001b[1;3m I should query the owner_org_title column to get the most released org division title.\n",
      "Action: sql_db_query\n",
      "Action Input: SELECT owner_org_title, COUNT(*) AS count FROM inventory GROUP BY owner_org_title ORDER BY count DESC LIMIT 10;\u001b[0m\n",
      "Observation: \u001b[36;1m\u001b[1;3m[('Statistics Canada | Statistique Canada', 6563), ('Fisheries and Oceans Canada | Pêches et Océans Canada', 799), ('Natural Resources Canada | Ressources naturelles Canada', 421), ('Agriculture and Agri-Food Canada | Agriculture et Agroalimentaire Canada', 413), ('Environment and Climate Change Canada | Environnement et Changement climatique Canada', 362), ('Public Services and Procurement Canada | Services publics et Approvisionnement Canada', 271), ('Immigration, Refugees and Citizenship Canada | Immigration, Réfugiés et Citoyenneté Canada', 223), ('Transport Canada | Transports Canada', 167), ('Canada Revenue Agency | Agence du revenu du Canada', 160), ('Employment and Social Development Canada | Emploi et Développement social Canada', 146)]\u001b[0m\n",
      "Thought:"
     ]
    },
    {
     "name": "stderr",
     "output_type": "stream",
     "text": [
      "Retrying langchain.llms.openai.completion_with_retry.<locals>._completion_with_retry in 4.0 seconds as it raised RateLimitError: Rate limit reached for default-text-davinci-003 in organization org-8QRUoez80xE1pV7j8qlCobzS on requests per min. Limit: 3 / min. Please try again in 20s. Contact us through our help center at help.openai.com if you continue to have issues. Please add a payment method to your account to increase your rate limit. Visit https://platform.openai.com/account/billing to add a payment method..\n",
      "Retrying langchain.llms.openai.completion_with_retry.<locals>._completion_with_retry in 4.0 seconds as it raised RateLimitError: Rate limit reached for default-text-davinci-003 in organization org-8QRUoez80xE1pV7j8qlCobzS on requests per min. Limit: 3 / min. Please try again in 20s. Contact us through our help center at help.openai.com if you continue to have issues. Please add a payment method to your account to increase your rate limit. Visit https://platform.openai.com/account/billing to add a payment method..\n",
      "Retrying langchain.llms.openai.completion_with_retry.<locals>._completion_with_retry in 4.0 seconds as it raised RateLimitError: Rate limit reached for default-text-davinci-003 in organization org-8QRUoez80xE1pV7j8qlCobzS on requests per min. Limit: 3 / min. Please try again in 20s. Contact us through our help center at help.openai.com if you continue to have issues. Please add a payment method to your account to increase your rate limit. Visit https://platform.openai.com/account/billing to add a payment method..\n",
      "Retrying langchain.llms.openai.completion_with_retry.<locals>._completion_with_retry in 8.0 seconds as it raised RateLimitError: Rate limit reached for default-text-davinci-003 in organization org-8QRUoez80xE1pV7j8qlCobzS on requests per min. Limit: 3 / min. Please try again in 20s. Contact us through our help center at help.openai.com if you continue to have issues. Please add a payment method to your account to increase your rate limit. Visit https://platform.openai.com/account/billing to add a payment method..\n"
     ]
    },
    {
     "name": "stdout",
     "output_type": "stream",
     "text": [
      "\u001b[32;1m\u001b[1;3m I now know the final answer.\n",
      "Final Answer: Statistics Canada | Statistique Canada\u001b[0m\n",
      "\n",
      "\u001b[1m> Finished chain.\u001b[0m\n"
     ]
    },
    {
     "data": {
      "text/plain": [
       "'Statistics Canada | Statistique Canada'"
      ]
     },
     "execution_count": 3,
     "metadata": {},
     "output_type": "execute_result"
    }
   ],
   "source": [
    "agent_executor.run(\n",
    "    prompt.format(query = \"What's most released org division title?\")\n",
    ")"
   ]
  },
  {
   "cell_type": "code",
   "execution_count": 6,
   "metadata": {},
   "outputs": [
    {
     "name": "stdout",
     "output_type": "stream",
     "text": [
      "\n",
      "\n",
      "\u001b[1m> Entering new AgentExecutor chain...\u001b[0m\n",
      "\u001b[32;1m\u001b[1;3mAction: sql_db_list_tables\n",
      "Action Input: \u001b[0m\n",
      "Observation: \u001b[38;5;200m\u001b[1;3minventory\u001b[0m\n",
      "Thought:\u001b[32;1m\u001b[1;3m I should query the schema of the inventory table to see what columns I can use.\n",
      "Action: sql_db_schema\n",
      "Action Input: inventory\u001b[0m\n",
      "Observation: \u001b[33;1m\u001b[1;3m\n",
      "CREATE TABLE inventory (\n",
      "\tref_number VARCHAR, \n",
      "\ttitle_en VARCHAR, \n",
      "\ttitle_fr VARCHAR, \n",
      "\tdescription_en VARCHAR, \n",
      "\tdescription_fr VARCHAR, \n",
      "\tpublisher_en VARCHAR, \n",
      "\tpublisher_fr VARCHAR, \n",
      "\tdate_published VARCHAR, \n",
      "\tlanguage VARCHAR, \n",
      "\tsize BIGINT, \n",
      "\teligible_for_release VARCHAR, \n",
      "\tprogram_alignment_architecture_en VARCHAR, \n",
      "\tprogram_alignment_architecture_fr VARCHAR, \n",
      "\tdate_released VARCHAR, \n",
      "\tportal_url_en VARCHAR, \n",
      "\tportal_url_fr VARCHAR, \n",
      "\tuser_votes BIGINT, \n",
      "\towner_org VARCHAR, \n",
      "\towner_org_title VARCHAR\n",
      ")\n",
      "\n",
      "/*\n",
      "3 rows from inventory table:\n",
      "ref_number\ttitle_en\ttitle_fr\tdescription_en\tdescription_fr\tpublisher_en\tpublisher_fr\tdate_published\tlanguage\tsize\teligible_for_release\tprogram_alignment_architecture_en\tprogram_alignment_architecture_fr\tdate_released\tportal_url_en\tportal_url_fr\tuser_votes\towner_org\towner_org_title\n",
      "OD-2017-00001\tProactive Disclosure of Travel Expenses for Senior Level Employees \tDivulgation proactive des frais de voyage des cadres supérieurs\tThis data provides information on the travel expenses incurred within the ATSSC by senior level empl\tCe données fournissent des renseignements sur les frais de voyage engagés au SCDATA par les cadres s\tATSSC\tSCDATA\t2014-11-01\ten+fr\tNone\tY\t1.1 Program: Tribunal Specialized and Expert Support Services\tServices de soutien spécialisé et expert aux tribunaux\tNone\tNone\tNone\t363\tatssc-scdata\tAdministrative Tribunals Support Service of Canada | Service canadien d'appui aux tribunaux administ\n",
      "OD-2017-00002\tProactive Disclosure of Hospitality Expenses for Senior Level Employees \tDivulgation proactive des frais d'accueil des cadres supérieurs\tThis data provides information on the hospitality expenses incurred within the ATSSC by senior level\tCe données fournissent des renseignements sur les frais d'accueil engagés au SCDATA par les cadres s\tATSSC\tSCDATA\t2014-11-01\ten+fr\tNone\tY\t1.1 Program: Tribunal Specialized and Expert Support Services\tServices de soutien spécialisé et expert aux tribunaux\tNone\tNone\tNone\t318\tatssc-scdata\tAdministrative Tribunals Support Service of Canada | Service canadien d'appui aux tribunaux administ\n",
      "OD-2017-00003\tProactive Disclosure of Contracts over $10,000 \tDivulgation proactive des marchés de plus de 10 000 $\tThis data provides information on contracts issued by the ATSSC. Every three months we will be repor\tCes données fournissent des renseignements sur les contrats conclus par le SCDATA. Tous les trois mo\tATSSC\tSCDATA\t2014-11-01\ten+fr\tNone\tY\t1.1 Program: Tribunal Specialized and Expert Support Services\tServices de soutien spécialisé et expert aux tribunaux\tNone\tNone\tNone\t365\tatssc-scdata\tAdministrative Tribunals Support Service of Canada | Service canadien d'appui aux tribunaux administ\n",
      "*/\u001b[0m\n",
      "Thought:"
     ]
    },
    {
     "name": "stderr",
     "output_type": "stream",
     "text": [
      "Retrying langchain.llms.openai.completion_with_retry.<locals>._completion_with_retry in 4.0 seconds as it raised RateLimitError: Rate limit reached for default-text-davinci-003 in organization org-8QRUoez80xE1pV7j8qlCobzS on requests per min. Limit: 3 / min. Please try again in 20s. Contact us through our help center at help.openai.com if you continue to have issues. Please add a payment method to your account to increase your rate limit. Visit https://platform.openai.com/account/billing to add a payment method..\n"
     ]
    },
    {
     "name": "stdout",
     "output_type": "stream",
     "text": [
      "\u001b[32;1m\u001b[1;3m I should query the inventory table for the most voted open data between 2000 and 2023.\n",
      "Action: sql_db_query\n",
      "Action Input: SELECT title_en, user_votes FROM inventory WHERE date_published BETWEEN '2000-01-01' AND '2023-12-31' ORDER BY user_votes DESC LIMIT 10;\u001b[0m\n",
      "Observation: \u001b[36;1m\u001b[1;3m[('Contaminated Sites Inventory', 381), ('Expenditures (Travel and Hospitality Expenses)', 378), ('Biomass Report Framework', 373), ('Proactive disclosure for Contracts over $10,000', 372), ('Disclosure of Wrongdoing in the Workplace', 371), ('AAFC Watershed Project - 2013', 370), ('Proactive Disclosure of Contracts over $10,000 ', 365), ('Proactive Disclosure Data for Position Reclassifications', 365), ('List of ADMs, MINO and DM staff (Travel and Hospitality Expenses)', 364), ('Proactive Disclosure of Travel Expenses for Senior Level Employees ', 363)]\u001b[0m\n",
      "Thought:"
     ]
    },
    {
     "name": "stderr",
     "output_type": "stream",
     "text": [
      "Retrying langchain.llms.openai.completion_with_retry.<locals>._completion_with_retry in 4.0 seconds as it raised RateLimitError: Rate limit reached for default-text-davinci-003 in organization org-8QRUoez80xE1pV7j8qlCobzS on requests per min. Limit: 3 / min. Please try again in 20s. Contact us through our help center at help.openai.com if you continue to have issues. Please add a payment method to your account to increase your rate limit. Visit https://platform.openai.com/account/billing to add a payment method..\n",
      "Retrying langchain.llms.openai.completion_with_retry.<locals>._completion_with_retry in 4.0 seconds as it raised RateLimitError: Rate limit reached for default-text-davinci-003 in organization org-8QRUoez80xE1pV7j8qlCobzS on requests per min. Limit: 3 / min. Please try again in 20s. Contact us through our help center at help.openai.com if you continue to have issues. Please add a payment method to your account to increase your rate limit. Visit https://platform.openai.com/account/billing to add a payment method..\n",
      "Retrying langchain.llms.openai.completion_with_retry.<locals>._completion_with_retry in 8.0 seconds as it raised RateLimitError: Rate limit reached for default-text-davinci-003 in organization org-8QRUoez80xE1pV7j8qlCobzS on requests per min. Limit: 3 / min. Please try again in 20s. Contact us through our help center at help.openai.com if you continue to have issues. Please add a payment method to your account to increase your rate limit. Visit https://platform.openai.com/account/billing to add a payment method..\n"
     ]
    },
    {
     "name": "stdout",
     "output_type": "stream",
     "text": [
      "\u001b[32;1m\u001b[1;3m I now know the final answer.\n",
      "Final Answer: The most voted open data between 2000 and 2023 is Contaminated Sites Inventory with 381 votes.\u001b[0m\n",
      "\n",
      "\u001b[1m> Finished chain.\u001b[0m\n"
     ]
    },
    {
     "data": {
      "text/plain": [
       "'The most voted open data between 2000 and 2023 is Contaminated Sites Inventory with 381 votes.'"
      ]
     },
     "execution_count": 6,
     "metadata": {},
     "output_type": "execute_result"
    }
   ],
   "source": [
    "agent_executor.run(\n",
    "    prompt.format(query = \"what is the most voted open date between 2000 and 2023?\")\n",
    ")"
   ]
  },
  {
   "cell_type": "code",
   "execution_count": 8,
   "metadata": {},
   "outputs": [
    {
     "name": "stdout",
     "output_type": "stream",
     "text": [
      "\n",
      "\n",
      "\u001b[1m> Entering new AgentExecutor chain...\u001b[0m\n",
      "\u001b[32;1m\u001b[1;3mAction: sql_db_list_tables\n",
      "Action Input: \u001b[0m\n",
      "Observation: \u001b[38;5;200m\u001b[1;3minventory\u001b[0m\n",
      "Thought:\u001b[32;1m\u001b[1;3m I should query the schema of the inventory table to see what columns I can use.\n",
      "Action: sql_db_schema\n",
      "Action Input: inventory\u001b[0m\n",
      "Observation: \u001b[33;1m\u001b[1;3m\n",
      "CREATE TABLE inventory (\n",
      "\tref_number VARCHAR, \n",
      "\ttitle_en VARCHAR, \n",
      "\ttitle_fr VARCHAR, \n",
      "\tdescription_en VARCHAR, \n",
      "\tdescription_fr VARCHAR, \n",
      "\tpublisher_en VARCHAR, \n",
      "\tpublisher_fr VARCHAR, \n",
      "\tdate_published VARCHAR, \n",
      "\tlanguage VARCHAR, \n",
      "\tsize BIGINT, \n",
      "\teligible_for_release VARCHAR, \n",
      "\tprogram_alignment_architecture_en VARCHAR, \n",
      "\tprogram_alignment_architecture_fr VARCHAR, \n",
      "\tdate_released VARCHAR, \n",
      "\tportal_url_en VARCHAR, \n",
      "\tportal_url_fr VARCHAR, \n",
      "\tuser_votes BIGINT, \n",
      "\towner_org VARCHAR, \n",
      "\towner_org_title VARCHAR\n",
      ")\n",
      "\n",
      "/*\n",
      "3 rows from inventory table:\n",
      "ref_number\ttitle_en\ttitle_fr\tdescription_en\tdescription_fr\tpublisher_en\tpublisher_fr\tdate_published\tlanguage\tsize\teligible_for_release\tprogram_alignment_architecture_en\tprogram_alignment_architecture_fr\tdate_released\tportal_url_en\tportal_url_fr\tuser_votes\towner_org\towner_org_title\n",
      "OD-2017-00001\tProactive Disclosure of Travel Expenses for Senior Level Employees \tDivulgation proactive des frais de voyage des cadres supérieurs\tThis data provides information on the travel expenses incurred within the ATSSC by senior level empl\tCe données fournissent des renseignements sur les frais de voyage engagés au SCDATA par les cadres s\tATSSC\tSCDATA\t2014-11-01\ten+fr\tNone\tY\t1.1 Program: Tribunal Specialized and Expert Support Services\tServices de soutien spécialisé et expert aux tribunaux\tNone\tNone\tNone\t363\tatssc-scdata\tAdministrative Tribunals Support Service of Canada | Service canadien d'appui aux tribunaux administ\n",
      "OD-2017-00002\tProactive Disclosure of Hospitality Expenses for Senior Level Employees \tDivulgation proactive des frais d'accueil des cadres supérieurs\tThis data provides information on the hospitality expenses incurred within the ATSSC by senior level\tCe données fournissent des renseignements sur les frais d'accueil engagés au SCDATA par les cadres s\tATSSC\tSCDATA\t2014-11-01\ten+fr\tNone\tY\t1.1 Program: Tribunal Specialized and Expert Support Services\tServices de soutien spécialisé et expert aux tribunaux\tNone\tNone\tNone\t318\tatssc-scdata\tAdministrative Tribunals Support Service of Canada | Service canadien d'appui aux tribunaux administ\n",
      "OD-2017-00003\tProactive Disclosure of Contracts over $10,000 \tDivulgation proactive des marchés de plus de 10 000 $\tThis data provides information on contracts issued by the ATSSC. Every three months we will be repor\tCes données fournissent des renseignements sur les contrats conclus par le SCDATA. Tous les trois mo\tATSSC\tSCDATA\t2014-11-01\ten+fr\tNone\tY\t1.1 Program: Tribunal Specialized and Expert Support Services\tServices de soutien spécialisé et expert aux tribunaux\tNone\tNone\tNone\t365\tatssc-scdata\tAdministrative Tribunals Support Service of Canada | Service canadien d'appui aux tribunaux administ\n",
      "*/\u001b[0m\n",
      "Thought:\u001b[32;1m\u001b[1;3m I should query the inventory table for the top 10 open data in French title that have been published but never been released.\n",
      "Action: sql_db_query\n",
      "Action Input: SELECT title_fr, date_published, date_released FROM inventory WHERE date_published IS NOT NULL AND date_released IS NULL ORDER BY date_published DESC LIMIT 10;\u001b[0m\n",
      "Observation: \u001b[36;1m\u001b[1;3m[(\"Rendu de décisions pour le comité sur la représentation à l'étranger (CORA) \", 'Under Review', None), ('Requêtes de transport aux missions', 'Under Review', None), ('Biens des missions et demandes de matériel', 'Under Review', None), (\"Requêtes d'informations financières et budgétaires des missions\", 'Under Review', None), ('Adhérence au standard de service de livraison pour les requêtes de services en ligne pour les missions (SLM)', 'Under Review', None), ('Niveau de satisfaction au service en ligne pour les missions', 'Under Review', None), ('Liste des véhicules des services communs', 'Under Review', None), ('SCDATA PSD 2023-2025 FINAL ', '2023-04-14', None), ('Compte d’unités de logement résidentiel du ministère de la Défense nationale au Canada.', '2023-01-31', None), ('États financiers 21-22', '2022-09-09', None)]\u001b[0m\n",
      "Thought:"
     ]
    },
    {
     "name": "stderr",
     "output_type": "stream",
     "text": [
      "Retrying langchain.llms.openai.completion_with_retry.<locals>._completion_with_retry in 4.0 seconds as it raised RateLimitError: Rate limit reached for default-text-davinci-003 in organization org-8QRUoez80xE1pV7j8qlCobzS on requests per min. Limit: 3 / min. Please try again in 20s. Contact us through our help center at help.openai.com if you continue to have issues. Please add a payment method to your account to increase your rate limit. Visit https://platform.openai.com/account/billing to add a payment method..\n",
      "Retrying langchain.llms.openai.completion_with_retry.<locals>._completion_with_retry in 4.0 seconds as it raised RateLimitError: Rate limit reached for default-text-davinci-003 in organization org-8QRUoez80xE1pV7j8qlCobzS on requests per min. Limit: 3 / min. Please try again in 20s. Contact us through our help center at help.openai.com if you continue to have issues. Please add a payment method to your account to increase your rate limit. Visit https://platform.openai.com/account/billing to add a payment method..\n",
      "Retrying langchain.llms.openai.completion_with_retry.<locals>._completion_with_retry in 4.0 seconds as it raised RateLimitError: Rate limit reached for default-text-davinci-003 in organization org-8QRUoez80xE1pV7j8qlCobzS on requests per min. Limit: 3 / min. Please try again in 20s. Contact us through our help center at help.openai.com if you continue to have issues. Please add a payment method to your account to increase your rate limit. Visit https://platform.openai.com/account/billing to add a payment method..\n",
      "Retrying langchain.llms.openai.completion_with_retry.<locals>._completion_with_retry in 8.0 seconds as it raised RateLimitError: Rate limit reached for default-text-davinci-003 in organization org-8QRUoez80xE1pV7j8qlCobzS on requests per min. Limit: 3 / min. Please try again in 20s. Contact us through our help center at help.openai.com if you continue to have issues. Please add a payment method to your account to increase your rate limit. Visit https://platform.openai.com/account/billing to add a payment method..\n"
     ]
    },
    {
     "name": "stdout",
     "output_type": "stream",
     "text": [
      "\u001b[32;1m\u001b[1;3m I now know the final answer.\n",
      "Final Answer: The top 10 open data in French title that have been published but never been released are: Rendu de décisions pour le comité sur la représentation à l'étranger (CORA), Requêtes de transport aux missions, Biens des missions et demandes de matériel, Requêtes d'informations financières et budgétaires des missions, Adhérence au standard de service de livraison pour les requêtes de services en ligne pour les missions (SLM), Niveau de satisfaction au service en ligne pour les missions, Liste des véhicules des services communs, SCDATA PSD 2023-2025 FINAL, Compte d’unités de logement résidentiel du ministère de la Défense nationale au Canada., and États financiers 21-22.\u001b[0m\n",
      "\n",
      "\u001b[1m> Finished chain.\u001b[0m\n"
     ]
    },
    {
     "data": {
      "text/plain": [
       "\"The top 10 open data in French title that have been published but never been released are: Rendu de décisions pour le comité sur la représentation à l'étranger (CORA), Requêtes de transport aux missions, Biens des missions et demandes de matériel, Requêtes d'informations financières et budgétaires des missions, Adhérence au standard de service de livraison pour les requêtes de services en ligne pour les missions (SLM), Niveau de satisfaction au service en ligne pour les missions, Liste des véhicules des services communs, SCDATA PSD 2023-2025 FINAL, Compte d’unités de logement résidentiel du ministère de la Défense nationale au Canada., and États financiers 21-22.\""
      ]
     },
     "execution_count": 8,
     "metadata": {},
     "output_type": "execute_result"
    }
   ],
   "source": [
    "agent_executor.run(\n",
    "    prompt.format(query = \"can you show me the top 10 open date in french title which have been published but never been released?\")\n",
    ")"
   ]
  }
 ],
 "metadata": {
  "kernelspec": {
   "display_name": ".venv",
   "language": "python",
   "name": "python3"
  },
  "language_info": {
   "codemirror_mode": {
    "name": "ipython",
    "version": 3
   },
   "file_extension": ".py",
   "mimetype": "text/x-python",
   "name": "python",
   "nbconvert_exporter": "python",
   "pygments_lexer": "ipython3",
   "version": "3.11.5"
  },
  "orig_nbformat": 4
 },
 "nbformat": 4,
 "nbformat_minor": 2
}
